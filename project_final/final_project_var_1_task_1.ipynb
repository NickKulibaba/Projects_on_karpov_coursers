{
 "cells": [
  {
   "cell_type": "markdown",
   "id": "1d73facf",
   "metadata": {},
   "source": [
    "# Задание 1\n",
    "\n",
    "Retention – один из самых важных показателей в компании. Ваша задача – написать функцию, которая будет считать retention игроков (по дням от даты регистрации игрока)."
   ]
  },
  {
   "cell_type": "code",
   "execution_count": 5,
   "id": "b2207e3a",
   "metadata": {},
   "outputs": [],
   "source": [
    "import pandas as pd\n",
    "\n",
    "import datetime\n",
    "from operator import attrgetter"
   ]
  },
  {
   "cell_type": "code",
   "execution_count": 6,
   "id": "72e8f4ae",
   "metadata": {},
   "outputs": [
    {
     "data": {
      "text/html": [
       "<div>\n",
       "<style scoped>\n",
       "    .dataframe tbody tr th:only-of-type {\n",
       "        vertical-align: middle;\n",
       "    }\n",
       "\n",
       "    .dataframe tbody tr th {\n",
       "        vertical-align: top;\n",
       "    }\n",
       "\n",
       "    .dataframe thead th {\n",
       "        text-align: right;\n",
       "    }\n",
       "</style>\n",
       "<table border=\"1\" class=\"dataframe\">\n",
       "  <thead>\n",
       "    <tr style=\"text-align: right;\">\n",
       "      <th></th>\n",
       "      <th>auth_ts</th>\n",
       "      <th>uid</th>\n",
       "    </tr>\n",
       "  </thead>\n",
       "  <tbody>\n",
       "    <tr>\n",
       "      <th>0</th>\n",
       "      <td>911382223</td>\n",
       "      <td>1</td>\n",
       "    </tr>\n",
       "    <tr>\n",
       "      <th>1</th>\n",
       "      <td>932683089</td>\n",
       "      <td>2</td>\n",
       "    </tr>\n",
       "    <tr>\n",
       "      <th>2</th>\n",
       "      <td>932921206</td>\n",
       "      <td>2</td>\n",
       "    </tr>\n",
       "    <tr>\n",
       "      <th>3</th>\n",
       "      <td>933393015</td>\n",
       "      <td>2</td>\n",
       "    </tr>\n",
       "    <tr>\n",
       "      <th>4</th>\n",
       "      <td>933875379</td>\n",
       "      <td>2</td>\n",
       "    </tr>\n",
       "  </tbody>\n",
       "</table>\n",
       "</div>"
      ],
      "text/plain": [
       "     auth_ts  uid\n",
       "0  911382223    1\n",
       "1  932683089    2\n",
       "2  932921206    2\n",
       "3  933393015    2\n",
       "4  933875379    2"
      ]
     },
     "execution_count": 6,
     "metadata": {},
     "output_type": "execute_result"
    }
   ],
   "source": [
    "auth_data = pd.read_csv('problem1-auth_data.csv', sep=';')\n",
    "auth_data.head()"
   ]
  },
  {
   "cell_type": "code",
   "execution_count": 7,
   "id": "dc803d65",
   "metadata": {},
   "outputs": [
    {
     "data": {
      "text/plain": [
       "(9601013, 2)"
      ]
     },
     "execution_count": 7,
     "metadata": {},
     "output_type": "execute_result"
    }
   ],
   "source": [
    "auth_data.shape"
   ]
  },
  {
   "cell_type": "code",
   "execution_count": 8,
   "id": "e55aac8e",
   "metadata": {},
   "outputs": [
    {
     "data": {
      "text/plain": [
       "auth_ts    9180915\n",
       "uid        1000000\n",
       "dtype: int64"
      ]
     },
     "execution_count": 8,
     "metadata": {},
     "output_type": "execute_result"
    }
   ],
   "source": [
    "auth_data.nunique()"
   ]
  },
  {
   "cell_type": "code",
   "execution_count": 9,
   "id": "e7055761",
   "metadata": {},
   "outputs": [
    {
     "data": {
      "text/plain": [
       "auth_ts    0\n",
       "uid        0\n",
       "dtype: int64"
      ]
     },
     "execution_count": 9,
     "metadata": {},
     "output_type": "execute_result"
    }
   ],
   "source": [
    "auth_data.isna().sum()"
   ]
  },
  {
   "cell_type": "code",
   "execution_count": 10,
   "id": "d31fe732",
   "metadata": {},
   "outputs": [
    {
     "data": {
      "text/plain": [
       "0"
      ]
     },
     "execution_count": 10,
     "metadata": {},
     "output_type": "execute_result"
    }
   ],
   "source": [
    "auth_data.duplicated().sum()"
   ]
  },
  {
   "cell_type": "code",
   "execution_count": 11,
   "id": "1bc1853f",
   "metadata": {},
   "outputs": [
    {
     "data": {
      "text/html": [
       "<div>\n",
       "<style scoped>\n",
       "    .dataframe tbody tr th:only-of-type {\n",
       "        vertical-align: middle;\n",
       "    }\n",
       "\n",
       "    .dataframe tbody tr th {\n",
       "        vertical-align: top;\n",
       "    }\n",
       "\n",
       "    .dataframe thead th {\n",
       "        text-align: right;\n",
       "    }\n",
       "</style>\n",
       "<table border=\"1\" class=\"dataframe\">\n",
       "  <thead>\n",
       "    <tr style=\"text-align: right;\">\n",
       "      <th></th>\n",
       "      <th>reg_ts</th>\n",
       "      <th>uid</th>\n",
       "    </tr>\n",
       "  </thead>\n",
       "  <tbody>\n",
       "    <tr>\n",
       "      <th>0</th>\n",
       "      <td>911382223</td>\n",
       "      <td>1</td>\n",
       "    </tr>\n",
       "    <tr>\n",
       "      <th>1</th>\n",
       "      <td>932683089</td>\n",
       "      <td>2</td>\n",
       "    </tr>\n",
       "    <tr>\n",
       "      <th>2</th>\n",
       "      <td>947802447</td>\n",
       "      <td>3</td>\n",
       "    </tr>\n",
       "    <tr>\n",
       "      <th>3</th>\n",
       "      <td>959523541</td>\n",
       "      <td>4</td>\n",
       "    </tr>\n",
       "    <tr>\n",
       "      <th>4</th>\n",
       "      <td>969103313</td>\n",
       "      <td>5</td>\n",
       "    </tr>\n",
       "  </tbody>\n",
       "</table>\n",
       "</div>"
      ],
      "text/plain": [
       "      reg_ts  uid\n",
       "0  911382223    1\n",
       "1  932683089    2\n",
       "2  947802447    3\n",
       "3  959523541    4\n",
       "4  969103313    5"
      ]
     },
     "execution_count": 11,
     "metadata": {},
     "output_type": "execute_result"
    }
   ],
   "source": [
    "reg_data = pd.read_csv('problem1-reg_data.csv', sep=';')\n",
    "reg_data.head()"
   ]
  },
  {
   "cell_type": "code",
   "execution_count": 12,
   "id": "43faed90",
   "metadata": {},
   "outputs": [
    {
     "data": {
      "text/plain": [
       "(1000000, 2)"
      ]
     },
     "execution_count": 12,
     "metadata": {},
     "output_type": "execute_result"
    }
   ],
   "source": [
    "reg_data.shape"
   ]
  },
  {
   "cell_type": "code",
   "execution_count": 13,
   "id": "01148082",
   "metadata": {},
   "outputs": [
    {
     "data": {
      "text/plain": [
       "reg_ts    1000000\n",
       "uid       1000000\n",
       "dtype: int64"
      ]
     },
     "execution_count": 13,
     "metadata": {},
     "output_type": "execute_result"
    }
   ],
   "source": [
    "reg_data.nunique()"
   ]
  },
  {
   "cell_type": "code",
   "execution_count": 14,
   "id": "fb5b0bdf",
   "metadata": {},
   "outputs": [
    {
     "data": {
      "text/plain": [
       "reg_ts    0\n",
       "uid       0\n",
       "dtype: int64"
      ]
     },
     "execution_count": 14,
     "metadata": {},
     "output_type": "execute_result"
    }
   ],
   "source": [
    "reg_data.isna().sum()"
   ]
  },
  {
   "cell_type": "code",
   "execution_count": 15,
   "id": "bdf7915e",
   "metadata": {},
   "outputs": [
    {
     "data": {
      "text/plain": [
       "0"
      ]
     },
     "execution_count": 15,
     "metadata": {},
     "output_type": "execute_result"
    }
   ],
   "source": [
    "reg_data.duplicated().sum()"
   ]
  },
  {
   "cell_type": "code",
   "execution_count": 16,
   "id": "8087b607",
   "metadata": {},
   "outputs": [],
   "source": [
    "df = auth_data.merge(reg_data, how='left', on='uid') # объединяем данные\n",
    "df['reg_date'] = pd.to_datetime(df.reg_ts, unit='s').dt.to_period('D') # преобразуем данные в дни\n",
    "df['auth_date'] = pd.to_datetime(df.auth_ts, unit='s').dt.to_period('D') # преобразуем данные в дни"
   ]
  },
  {
   "cell_type": "code",
   "execution_count": 17,
   "id": "a758c4a0",
   "metadata": {},
   "outputs": [
    {
     "data": {
      "text/html": [
       "<div>\n",
       "<style scoped>\n",
       "    .dataframe tbody tr th:only-of-type {\n",
       "        vertical-align: middle;\n",
       "    }\n",
       "\n",
       "    .dataframe tbody tr th {\n",
       "        vertical-align: top;\n",
       "    }\n",
       "\n",
       "    .dataframe thead th {\n",
       "        text-align: right;\n",
       "    }\n",
       "</style>\n",
       "<table border=\"1\" class=\"dataframe\">\n",
       "  <thead>\n",
       "    <tr style=\"text-align: right;\">\n",
       "      <th></th>\n",
       "      <th>auth_ts</th>\n",
       "      <th>uid</th>\n",
       "      <th>reg_ts</th>\n",
       "      <th>reg_date</th>\n",
       "      <th>auth_date</th>\n",
       "    </tr>\n",
       "  </thead>\n",
       "  <tbody>\n",
       "    <tr>\n",
       "      <th>0</th>\n",
       "      <td>911382223</td>\n",
       "      <td>1</td>\n",
       "      <td>911382223</td>\n",
       "      <td>1998-11-18</td>\n",
       "      <td>1998-11-18</td>\n",
       "    </tr>\n",
       "    <tr>\n",
       "      <th>1</th>\n",
       "      <td>932683089</td>\n",
       "      <td>2</td>\n",
       "      <td>932683089</td>\n",
       "      <td>1999-07-22</td>\n",
       "      <td>1999-07-22</td>\n",
       "    </tr>\n",
       "    <tr>\n",
       "      <th>2</th>\n",
       "      <td>932921206</td>\n",
       "      <td>2</td>\n",
       "      <td>932683089</td>\n",
       "      <td>1999-07-22</td>\n",
       "      <td>1999-07-25</td>\n",
       "    </tr>\n",
       "    <tr>\n",
       "      <th>3</th>\n",
       "      <td>933393015</td>\n",
       "      <td>2</td>\n",
       "      <td>932683089</td>\n",
       "      <td>1999-07-22</td>\n",
       "      <td>1999-07-31</td>\n",
       "    </tr>\n",
       "    <tr>\n",
       "      <th>4</th>\n",
       "      <td>933875379</td>\n",
       "      <td>2</td>\n",
       "      <td>932683089</td>\n",
       "      <td>1999-07-22</td>\n",
       "      <td>1999-08-05</td>\n",
       "    </tr>\n",
       "  </tbody>\n",
       "</table>\n",
       "</div>"
      ],
      "text/plain": [
       "     auth_ts  uid     reg_ts    reg_date   auth_date\n",
       "0  911382223    1  911382223  1998-11-18  1998-11-18\n",
       "1  932683089    2  932683089  1999-07-22  1999-07-22\n",
       "2  932921206    2  932683089  1999-07-22  1999-07-25\n",
       "3  933393015    2  932683089  1999-07-22  1999-07-31\n",
       "4  933875379    2  932683089  1999-07-22  1999-08-05"
      ]
     },
     "execution_count": 17,
     "metadata": {},
     "output_type": "execute_result"
    }
   ],
   "source": [
    "df.head()"
   ]
  },
  {
   "cell_type": "code",
   "execution_count": 18,
   "id": "1a51b378",
   "metadata": {},
   "outputs": [
    {
     "data": {
      "text/plain": [
       "(9601013, 5)"
      ]
     },
     "execution_count": 18,
     "metadata": {},
     "output_type": "execute_result"
    }
   ],
   "source": [
    "df.shape"
   ]
  },
  {
   "cell_type": "code",
   "execution_count": 19,
   "id": "ca4151ca",
   "metadata": {},
   "outputs": [],
   "source": [
    "def retention_by_player (reg_data, auth_data, first_cohort, last_cohort, quantity_days):\n",
    "    \"\"\"\n",
    "    reg_data - данные о времени регистрации\n",
    "    auth_data - данные о времени захода пользователей в игру\n",
    "    first_cohort - начало периода для анализа, вводится в формате 'гггг-мм-дд'\n",
    "    last_cohort - окончание периода для анализа, вводится в формате 'гггг-мм-дд'\n",
    "    quantity_days - количество дней, чтобы посмотреть retertion\n",
    "    \"\"\"  \n",
    "    df = auth_data.merge(reg_data, how='left', on='uid') # объединяем данные\n",
    "    df['reg_date'] = pd.to_datetime(df.reg_ts, unit='s').dt.to_period('D') # преобразуем данные в дни\n",
    "    df['auth_date'] = pd.to_datetime(df.auth_ts, unit='s').dt.to_period('D') # преобразуем данные в дни\n",
    "    cohort = df.groupby(['reg_date', 'auth_date'], as_index=False).agg({'uid': 'nunique'}) # создадим когорты\n",
    "    cohort['diff_date'] = (cohort.auth_date - cohort.reg_date).apply(attrgetter('n')) # дни от даты регистрации\n",
    "    cohort_filter = cohort.query('diff_date <= @quantity_days and @last_cohort >= reg_date >= @first_cohort') # фильтр\n",
    "    cohort_pivot = cohort_filter.pivot_table(index='reg_date', columns='diff_date', values='uid') # развернем\n",
    "    cohort_null = cohort_pivot.iloc[:,0] # пользователи в нулевой период\n",
    "    retention = cohort_pivot.div(cohort_null, axis=0) # получаем %\n",
    "    del retention[0] # удаляем нулевой день для смотрибельности\n",
    "    \n",
    "    # преобразуем вид\n",
    "    ur_style = (retention\n",
    "                .style \n",
    "                .set_caption('Retention by player')           # добавляем подпись \n",
    "                .background_gradient(cmap='viridis')          # раскрашиваем ячейки по столбцам \n",
    "                .highlight_null('white')                      # делаем белый фон для значений NaN \n",
    "                .format(\"{:.2%}\", na_rep=\"\"))                 # числа форматируем как проценты, NaN заменяем на пустоту \n",
    "        \n",
    "    return ur_style"
   ]
  },
  {
   "cell_type": "markdown",
   "id": "4f84a8ff",
   "metadata": {},
   "source": [
    "### Пример работы функции retention_by_player"
   ]
  },
  {
   "cell_type": "code",
   "execution_count": 20,
   "id": "405507e8",
   "metadata": {},
   "outputs": [
    {
     "name": "stdout",
     "output_type": "stream",
     "text": [
      "диапазон дат от 1998-11-18 до 2020-09-23\n"
     ]
    }
   ],
   "source": [
    "max_cohort = df.reg_date.max()\n",
    "min_cohort = df.reg_date.min()\n",
    "print('диапазон дат от',min_cohort, 'до', max_cohort)"
   ]
  },
  {
   "cell_type": "code",
   "execution_count": 21,
   "id": "c9a8bae3",
   "metadata": {},
   "outputs": [],
   "source": [
    "# Задаем исходные данные\n",
    "first_cohort = '2020-09-17'\n",
    "last_cohort = '2020-09-23'\n",
    "quantity_days = 7"
   ]
  },
  {
   "cell_type": "code",
   "execution_count": 22,
   "id": "0c9fdd14",
   "metadata": {},
   "outputs": [
    {
     "data": {
      "text/html": [
       "<style type=\"text/css\">\n",
       "#T_8909f_row0_col0 {\n",
       "  background-color: #20928c;\n",
       "  color: #f1f1f1;\n",
       "}\n",
       "#T_8909f_row0_col1 {\n",
       "  background-color: #98d83e;\n",
       "  color: #000000;\n",
       "}\n",
       "#T_8909f_row0_col2 {\n",
       "  background-color: #d0e11c;\n",
       "  color: #000000;\n",
       "}\n",
       "#T_8909f_row0_col3, #T_8909f_row0_col4, #T_8909f_row1_col1, #T_8909f_row2_col2, #T_8909f_row3_col0 {\n",
       "  background-color: #fde725;\n",
       "  color: #000000;\n",
       "}\n",
       "#T_8909f_row0_col5, #T_8909f_row1_col4, #T_8909f_row2_col3, #T_8909f_row3_col2, #T_8909f_row4_col1, #T_8909f_row5_col0 {\n",
       "  background-color: #440154;\n",
       "  color: #f1f1f1;\n",
       "}\n",
       "#T_8909f_row1_col0 {\n",
       "  background-color: #32b67a;\n",
       "  color: #f1f1f1;\n",
       "}\n",
       "#T_8909f_row1_col2 {\n",
       "  background-color: #77d153;\n",
       "  color: #000000;\n",
       "}\n",
       "#T_8909f_row1_col3 {\n",
       "  background-color: #aadc32;\n",
       "  color: #000000;\n",
       "}\n",
       "#T_8909f_row1_col5, #T_8909f_row2_col5, #T_8909f_row3_col5, #T_8909f_row4_col5, #T_8909f_row5_col5, #T_8909f_row6_col5 {\n",
       "  background-color: #440154;\n",
       "  color: #f1f1f1;\n",
       "  background-color: white;\n",
       "}\n",
       "#T_8909f_row2_col0 {\n",
       "  background-color: #26ad81;\n",
       "  color: #f1f1f1;\n",
       "}\n",
       "#T_8909f_row2_col1 {\n",
       "  background-color: #2e6f8e;\n",
       "  color: #f1f1f1;\n",
       "}\n",
       "#T_8909f_row2_col4, #T_8909f_row3_col3, #T_8909f_row3_col4, #T_8909f_row4_col2, #T_8909f_row4_col3, #T_8909f_row4_col4, #T_8909f_row5_col1, #T_8909f_row5_col2, #T_8909f_row5_col3, #T_8909f_row5_col4, #T_8909f_row6_col0, #T_8909f_row6_col1, #T_8909f_row6_col2, #T_8909f_row6_col3, #T_8909f_row6_col4 {\n",
       "  background-color: #000000;\n",
       "  color: #f1f1f1;\n",
       "  background-color: white;\n",
       "}\n",
       "#T_8909f_row3_col1 {\n",
       "  background-color: #a8db34;\n",
       "  color: #000000;\n",
       "}\n",
       "#T_8909f_row4_col0 {\n",
       "  background-color: #31b57b;\n",
       "  color: #f1f1f1;\n",
       "}\n",
       "</style>\n",
       "<table id=\"T_8909f\">\n",
       "  <caption>Retention by player</caption>\n",
       "  <thead>\n",
       "    <tr>\n",
       "      <th class=\"index_name level0\" >diff_date</th>\n",
       "      <th id=\"T_8909f_level0_col0\" class=\"col_heading level0 col0\" >1</th>\n",
       "      <th id=\"T_8909f_level0_col1\" class=\"col_heading level0 col1\" >2</th>\n",
       "      <th id=\"T_8909f_level0_col2\" class=\"col_heading level0 col2\" >3</th>\n",
       "      <th id=\"T_8909f_level0_col3\" class=\"col_heading level0 col3\" >4</th>\n",
       "      <th id=\"T_8909f_level0_col4\" class=\"col_heading level0 col4\" >5</th>\n",
       "      <th id=\"T_8909f_level0_col5\" class=\"col_heading level0 col5\" >6</th>\n",
       "    </tr>\n",
       "    <tr>\n",
       "      <th class=\"index_name level0\" >reg_date</th>\n",
       "      <th class=\"blank col0\" >&nbsp;</th>\n",
       "      <th class=\"blank col1\" >&nbsp;</th>\n",
       "      <th class=\"blank col2\" >&nbsp;</th>\n",
       "      <th class=\"blank col3\" >&nbsp;</th>\n",
       "      <th class=\"blank col4\" >&nbsp;</th>\n",
       "      <th class=\"blank col5\" >&nbsp;</th>\n",
       "    </tr>\n",
       "  </thead>\n",
       "  <tbody>\n",
       "    <tr>\n",
       "      <th id=\"T_8909f_level0_row0\" class=\"row_heading level0 row0\" >2020-09-17</th>\n",
       "      <td id=\"T_8909f_row0_col0\" class=\"data row0 col0\" >1.66%</td>\n",
       "      <td id=\"T_8909f_row0_col1\" class=\"data row0 col1\" >4.30%</td>\n",
       "      <td id=\"T_8909f_row0_col2\" class=\"data row0 col2\" >4.55%</td>\n",
       "      <td id=\"T_8909f_row0_col3\" class=\"data row0 col3\" >5.47%</td>\n",
       "      <td id=\"T_8909f_row0_col4\" class=\"data row0 col4\" >6.27%</td>\n",
       "      <td id=\"T_8909f_row0_col5\" class=\"data row0 col5\" >4.24%</td>\n",
       "    </tr>\n",
       "    <tr>\n",
       "      <th id=\"T_8909f_level0_row1\" class=\"row_heading level0 row1\" >2020-09-18</th>\n",
       "      <td id=\"T_8909f_row1_col0\" class=\"data row1 col0\" >1.90%</td>\n",
       "      <td id=\"T_8909f_row1_col1\" class=\"data row1 col1\" >4.54%</td>\n",
       "      <td id=\"T_8909f_row1_col2\" class=\"data row1 col2\" >4.23%</td>\n",
       "      <td id=\"T_8909f_row1_col3\" class=\"data row1 col3\" >5.21%</td>\n",
       "      <td id=\"T_8909f_row1_col4\" class=\"data row1 col4\" >3.74%</td>\n",
       "      <td id=\"T_8909f_row1_col5\" class=\"data row1 col5\" ></td>\n",
       "    </tr>\n",
       "    <tr>\n",
       "      <th id=\"T_8909f_level0_row2\" class=\"row_heading level0 row2\" >2020-09-19</th>\n",
       "      <td id=\"T_8909f_row2_col0\" class=\"data row2 col0\" >1.84%</td>\n",
       "      <td id=\"T_8909f_row2_col1\" class=\"data row2 col1\" >3.55%</td>\n",
       "      <td id=\"T_8909f_row2_col2\" class=\"data row2 col2\" >4.71%</td>\n",
       "      <td id=\"T_8909f_row2_col3\" class=\"data row2 col3\" >3.49%</td>\n",
       "      <td id=\"T_8909f_row2_col4\" class=\"data row2 col4\" ></td>\n",
       "      <td id=\"T_8909f_row2_col5\" class=\"data row2 col5\" ></td>\n",
       "    </tr>\n",
       "    <tr>\n",
       "      <th id=\"T_8909f_level0_row3\" class=\"row_heading level0 row3\" >2020-09-20</th>\n",
       "      <td id=\"T_8909f_row3_col0\" class=\"data row3 col0\" >2.44%</td>\n",
       "      <td id=\"T_8909f_row3_col1\" class=\"data row3 col1\" >4.34%</td>\n",
       "      <td id=\"T_8909f_row3_col2\" class=\"data row3 col2\" >2.38%</td>\n",
       "      <td id=\"T_8909f_row3_col3\" class=\"data row3 col3\" ></td>\n",
       "      <td id=\"T_8909f_row3_col4\" class=\"data row3 col4\" ></td>\n",
       "      <td id=\"T_8909f_row3_col5\" class=\"data row3 col5\" ></td>\n",
       "    </tr>\n",
       "    <tr>\n",
       "      <th id=\"T_8909f_level0_row4\" class=\"row_heading level0 row4\" >2020-09-21</th>\n",
       "      <td id=\"T_8909f_row4_col0\" class=\"data row4 col0\" >1.89%</td>\n",
       "      <td id=\"T_8909f_row4_col1\" class=\"data row4 col1\" >2.99%</td>\n",
       "      <td id=\"T_8909f_row4_col2\" class=\"data row4 col2\" ></td>\n",
       "      <td id=\"T_8909f_row4_col3\" class=\"data row4 col3\" ></td>\n",
       "      <td id=\"T_8909f_row4_col4\" class=\"data row4 col4\" ></td>\n",
       "      <td id=\"T_8909f_row4_col5\" class=\"data row4 col5\" ></td>\n",
       "    </tr>\n",
       "    <tr>\n",
       "      <th id=\"T_8909f_level0_row5\" class=\"row_heading level0 row5\" >2020-09-22</th>\n",
       "      <td id=\"T_8909f_row5_col0\" class=\"data row5 col0\" >0.85%</td>\n",
       "      <td id=\"T_8909f_row5_col1\" class=\"data row5 col1\" ></td>\n",
       "      <td id=\"T_8909f_row5_col2\" class=\"data row5 col2\" ></td>\n",
       "      <td id=\"T_8909f_row5_col3\" class=\"data row5 col3\" ></td>\n",
       "      <td id=\"T_8909f_row5_col4\" class=\"data row5 col4\" ></td>\n",
       "      <td id=\"T_8909f_row5_col5\" class=\"data row5 col5\" ></td>\n",
       "    </tr>\n",
       "    <tr>\n",
       "      <th id=\"T_8909f_level0_row6\" class=\"row_heading level0 row6\" >2020-09-23</th>\n",
       "      <td id=\"T_8909f_row6_col0\" class=\"data row6 col0\" ></td>\n",
       "      <td id=\"T_8909f_row6_col1\" class=\"data row6 col1\" ></td>\n",
       "      <td id=\"T_8909f_row6_col2\" class=\"data row6 col2\" ></td>\n",
       "      <td id=\"T_8909f_row6_col3\" class=\"data row6 col3\" ></td>\n",
       "      <td id=\"T_8909f_row6_col4\" class=\"data row6 col4\" ></td>\n",
       "      <td id=\"T_8909f_row6_col5\" class=\"data row6 col5\" ></td>\n",
       "    </tr>\n",
       "  </tbody>\n",
       "</table>\n"
      ],
      "text/plain": [
       "<pandas.io.formats.style.Styler at 0x114370430>"
      ]
     },
     "execution_count": 22,
     "metadata": {},
     "output_type": "execute_result"
    }
   ],
   "source": [
    "retention_by_player(reg_data, auth_data, first_cohort, last_cohort, quantity_days)"
   ]
  },
  {
   "cell_type": "code",
   "execution_count": null,
   "id": "79e8a1fd",
   "metadata": {},
   "outputs": [],
   "source": []
  },
  {
   "cell_type": "code",
   "execution_count": null,
   "id": "27d22309",
   "metadata": {},
   "outputs": [],
   "source": []
  },
  {
   "cell_type": "code",
   "execution_count": null,
   "id": "325aa149",
   "metadata": {},
   "outputs": [],
   "source": []
  },
  {
   "cell_type": "code",
   "execution_count": null,
   "id": "0249a1a9",
   "metadata": {},
   "outputs": [],
   "source": []
  },
  {
   "cell_type": "code",
   "execution_count": null,
   "id": "5139e7c1",
   "metadata": {},
   "outputs": [],
   "source": []
  },
  {
   "cell_type": "code",
   "execution_count": null,
   "id": "db1b1af0",
   "metadata": {},
   "outputs": [],
   "source": []
  },
  {
   "cell_type": "code",
   "execution_count": null,
   "id": "ac1a5fec",
   "metadata": {},
   "outputs": [],
   "source": []
  }
 ],
 "metadata": {
  "kernelspec": {
   "display_name": "Python 3 (ipykernel)",
   "language": "python",
   "name": "python3"
  },
  "language_info": {
   "codemirror_mode": {
    "name": "ipython",
    "version": 3
   },
   "file_extension": ".py",
   "mimetype": "text/x-python",
   "name": "python",
   "nbconvert_exporter": "python",
   "pygments_lexer": "ipython3",
   "version": "3.10.9"
  }
 },
 "nbformat": 4,
 "nbformat_minor": 5
}
