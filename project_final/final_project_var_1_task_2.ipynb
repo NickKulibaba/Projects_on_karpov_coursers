{
 "cells": [
  {
   "cell_type": "markdown",
   "id": "76df7ca4",
   "metadata": {},
   "source": [
    "# Задание 2\n",
    "\n",
    "Имеются результаты A/B теста, в котором двум группам пользователей предлагались различные наборы акционных предложений. Известно, что ARPU в тестовой группе выше на 5%, чем в контрольной. При этом в контрольной группе 1928 игроков из 202103 оказались платящими, а в тестовой – 1805 из 202667.\n",
    "\n",
    "Какой набор предложений можно считать лучшим? Какие метрики стоит проанализировать для принятия правильного решения и как?"
   ]
  },
  {
   "cell_type": "code",
   "execution_count": 1,
   "id": "d1c1f7e3",
   "metadata": {},
   "outputs": [
    {
     "name": "stderr",
     "output_type": "stream",
     "text": [
      "/Users/nickkulibaba/miniconda3/lib/python3.10/site-packages/tqdm/auto.py:22: TqdmWarning: IProgress not found. Please update jupyter and ipywidgets. See https://ipywidgets.readthedocs.io/en/stable/user_install.html\n",
      "  from .autonotebook import tqdm as notebook_tqdm\n"
     ]
    }
   ],
   "source": [
    "import numpy as np\n",
    "import pandas as pd\n",
    "import seaborn as sns\n",
    "from scipy.stats import norm\n",
    "import matplotlib.pyplot as plt\n",
    "from scipy.stats import ttest_ind\n",
    "import scipy.stats as ss\n",
    "from scipy.stats import mannwhitneyu\n",
    "\n",
    "from tqdm.auto import tqdm\n",
    "\n",
    "plt.style.use('ggplot')"
   ]
  },
  {
   "cell_type": "code",
   "execution_count": 3,
   "id": "8f8e90b7",
   "metadata": {},
   "outputs": [],
   "source": [
    "df = pd.read_csv('Проект_1_Задание_2.csv', sep=';')"
   ]
  },
  {
   "cell_type": "code",
   "execution_count": 4,
   "id": "e2ab15e7",
   "metadata": {},
   "outputs": [
    {
     "data": {
      "text/html": [
       "<div>\n",
       "<style scoped>\n",
       "    .dataframe tbody tr th:only-of-type {\n",
       "        vertical-align: middle;\n",
       "    }\n",
       "\n",
       "    .dataframe tbody tr th {\n",
       "        vertical-align: top;\n",
       "    }\n",
       "\n",
       "    .dataframe thead th {\n",
       "        text-align: right;\n",
       "    }\n",
       "</style>\n",
       "<table border=\"1\" class=\"dataframe\">\n",
       "  <thead>\n",
       "    <tr style=\"text-align: right;\">\n",
       "      <th></th>\n",
       "      <th>user_id</th>\n",
       "      <th>revenue</th>\n",
       "      <th>testgroup</th>\n",
       "    </tr>\n",
       "  </thead>\n",
       "  <tbody>\n",
       "    <tr>\n",
       "      <th>0</th>\n",
       "      <td>1</td>\n",
       "      <td>0</td>\n",
       "      <td>b</td>\n",
       "    </tr>\n",
       "    <tr>\n",
       "      <th>1</th>\n",
       "      <td>2</td>\n",
       "      <td>0</td>\n",
       "      <td>a</td>\n",
       "    </tr>\n",
       "    <tr>\n",
       "      <th>2</th>\n",
       "      <td>3</td>\n",
       "      <td>0</td>\n",
       "      <td>a</td>\n",
       "    </tr>\n",
       "    <tr>\n",
       "      <th>3</th>\n",
       "      <td>4</td>\n",
       "      <td>0</td>\n",
       "      <td>b</td>\n",
       "    </tr>\n",
       "    <tr>\n",
       "      <th>4</th>\n",
       "      <td>5</td>\n",
       "      <td>0</td>\n",
       "      <td>b</td>\n",
       "    </tr>\n",
       "  </tbody>\n",
       "</table>\n",
       "</div>"
      ],
      "text/plain": [
       "   user_id  revenue testgroup\n",
       "0        1        0         b\n",
       "1        2        0         a\n",
       "2        3        0         a\n",
       "3        4        0         b\n",
       "4        5        0         b"
      ]
     },
     "execution_count": 4,
     "metadata": {},
     "output_type": "execute_result"
    }
   ],
   "source": [
    "df.head()"
   ]
  },
  {
   "cell_type": "code",
   "execution_count": 5,
   "id": "43e9adaf",
   "metadata": {},
   "outputs": [
    {
     "data": {
      "text/plain": [
       "user_id      0\n",
       "revenue      0\n",
       "testgroup    0\n",
       "dtype: int64"
      ]
     },
     "execution_count": 5,
     "metadata": {},
     "output_type": "execute_result"
    }
   ],
   "source": [
    "df.isna().sum() # пропусков нет"
   ]
  },
  {
   "cell_type": "code",
   "execution_count": 6,
   "id": "4ab0f7bc",
   "metadata": {},
   "outputs": [
    {
     "data": {
      "text/plain": [
       "array(['b', 'a'], dtype=object)"
      ]
     },
     "execution_count": 6,
     "metadata": {},
     "output_type": "execute_result"
    }
   ],
   "source": [
    "df.testgroup.unique()"
   ]
  },
  {
   "cell_type": "code",
   "execution_count": 7,
   "id": "9526e970",
   "metadata": {},
   "outputs": [
    {
     "data": {
      "text/plain": [
       "user_id       int64\n",
       "revenue       int64\n",
       "testgroup    object\n",
       "dtype: object"
      ]
     },
     "execution_count": 7,
     "metadata": {},
     "output_type": "execute_result"
    }
   ],
   "source": [
    "df.dtypes"
   ]
  },
  {
   "cell_type": "code",
   "execution_count": 8,
   "id": "2a7a95ca",
   "metadata": {},
   "outputs": [],
   "source": [
    "contr = df.query(\"testgroup == 'a'\") # группа а - контрольная"
   ]
  },
  {
   "cell_type": "code",
   "execution_count": 9,
   "id": "2f940251",
   "metadata": {},
   "outputs": [],
   "source": [
    "test = df.query(\"testgroup == 'b'\") # группа b - тестовая"
   ]
  },
  {
   "cell_type": "markdown",
   "id": "99e0ea6e",
   "metadata": {},
   "source": [
    "### 1. CR - конверсия в покупку"
   ]
  },
  {
   "cell_type": "code",
   "execution_count": 10,
   "id": "c82064ce",
   "metadata": {},
   "outputs": [
    {
     "data": {
      "text/plain": [
       "0.009539690157988749"
      ]
     },
     "execution_count": 10,
     "metadata": {},
     "output_type": "execute_result"
    }
   ],
   "source": [
    "contr.query('revenue > 0').user_id.count() / contr.user_id.count() # контрольная группа"
   ]
  },
  {
   "cell_type": "code",
   "execution_count": 11,
   "id": "9869499b",
   "metadata": {},
   "outputs": [
    {
     "data": {
      "text/plain": [
       "0.008906235351586593"
      ]
     },
     "execution_count": 11,
     "metadata": {},
     "output_type": "execute_result"
    }
   ],
   "source": [
    "test.query('revenue > 0').user_id.count() / test.user_id.count() # тестовая группа"
   ]
  },
  {
   "cell_type": "markdown",
   "id": "fff6465d",
   "metadata": {},
   "source": [
    "Конверсия у контрольной группы больше, посмотрим, статистически значимо это или нет. Переменная категориальная, применим хи квадрат"
   ]
  },
  {
   "cell_type": "code",
   "execution_count": 12,
   "id": "7fe9f0bf",
   "metadata": {},
   "outputs": [],
   "source": [
    "df_CR = df"
   ]
  },
  {
   "cell_type": "code",
   "execution_count": 13,
   "id": "baf6ddf2",
   "metadata": {},
   "outputs": [],
   "source": [
    "df_CR['pay'] = np.where(df.revenue > 0, 1, 0)"
   ]
  },
  {
   "cell_type": "code",
   "execution_count": 14,
   "id": "a356495d",
   "metadata": {},
   "outputs": [
    {
     "data": {
      "text/html": [
       "<div>\n",
       "<style scoped>\n",
       "    .dataframe tbody tr th:only-of-type {\n",
       "        vertical-align: middle;\n",
       "    }\n",
       "\n",
       "    .dataframe tbody tr th {\n",
       "        vertical-align: top;\n",
       "    }\n",
       "\n",
       "    .dataframe thead th {\n",
       "        text-align: right;\n",
       "    }\n",
       "</style>\n",
       "<table border=\"1\" class=\"dataframe\">\n",
       "  <thead>\n",
       "    <tr style=\"text-align: right;\">\n",
       "      <th>pay</th>\n",
       "      <th>0</th>\n",
       "      <th>1</th>\n",
       "    </tr>\n",
       "    <tr>\n",
       "      <th>testgroup</th>\n",
       "      <th></th>\n",
       "      <th></th>\n",
       "    </tr>\n",
       "  </thead>\n",
       "  <tbody>\n",
       "    <tr>\n",
       "      <th>a</th>\n",
       "      <td>200175</td>\n",
       "      <td>1928</td>\n",
       "    </tr>\n",
       "    <tr>\n",
       "      <th>b</th>\n",
       "      <td>200862</td>\n",
       "      <td>1805</td>\n",
       "    </tr>\n",
       "  </tbody>\n",
       "</table>\n",
       "</div>"
      ],
      "text/plain": [
       "pay             0     1\n",
       "testgroup              \n",
       "a          200175  1928\n",
       "b          200862  1805"
      ]
     },
     "execution_count": 14,
     "metadata": {},
     "output_type": "execute_result"
    }
   ],
   "source": [
    "df_CR = pd.crosstab(df.testgroup, df.pay)\n",
    "df_CR "
   ]
  },
  {
   "cell_type": "code",
   "execution_count": 15,
   "id": "c11e2946",
   "metadata": {},
   "outputs": [
    {
     "data": {
      "text/plain": [
       "Chi2ContingencyResult(statistic=4.374729521260405, pvalue=0.03647561892312613, dof=1, expected_freq=array([[200239.10075104,   1863.89924896],\n",
       "       [200797.89924896,   1869.10075104]]))"
      ]
     },
     "execution_count": 15,
     "metadata": {},
     "output_type": "execute_result"
    }
   ],
   "source": [
    "ss.chi2_contingency(df_CR)"
   ]
  },
  {
   "cell_type": "markdown",
   "id": "5954aa87",
   "metadata": {},
   "source": [
    "p-value = 0.036, это меньше 0.05, конверсия у контрольной группы больше тестовой и это статистически значимо."
   ]
  },
  {
   "cell_type": "markdown",
   "id": "bd472bfb",
   "metadata": {},
   "source": [
    "### 2. ARPU - средний доход на пользователя"
   ]
  },
  {
   "cell_type": "code",
   "execution_count": 16,
   "id": "ee131713",
   "metadata": {},
   "outputs": [
    {
     "data": {
      "text/plain": [
       "25.413719736965806"
      ]
     },
     "execution_count": 16,
     "metadata": {},
     "output_type": "execute_result"
    }
   ],
   "source": [
    "contr.revenue.mean()"
   ]
  },
  {
   "cell_type": "code",
   "execution_count": 17,
   "id": "3fa30f46",
   "metadata": {},
   "outputs": [
    {
     "data": {
      "text/plain": [
       "26.75128659327863"
      ]
     },
     "execution_count": 17,
     "metadata": {},
     "output_type": "execute_result"
    }
   ],
   "source": [
    "test.revenue.mean()"
   ]
  },
  {
   "cell_type": "code",
   "execution_count": 18,
   "id": "bd88b343",
   "metadata": {},
   "outputs": [
    {
     "data": {
      "text/plain": [
       "<seaborn.axisgrid.FacetGrid at 0x157f27b20>"
      ]
     },
     "execution_count": 18,
     "metadata": {},
     "output_type": "execute_result"
    },
    {
     "data": {
      "image/png": "[encoded data removed]",
      "text/plain": [
       "<Figure size 500x500 with 1 Axes>"
      ]
     },
     "metadata": {},
     "output_type": "display_data"
    }
   ],
   "source": [
    "sns.displot(contr.revenue) # распределение группа а"
   ]
  },
  {
   "cell_type": "code",
   "execution_count": 19,
   "id": "63343403",
   "metadata": {},
   "outputs": [
    {
     "data": {
      "text/plain": [
       "<seaborn.axisgrid.FacetGrid at 0x158937f40>"
      ]
     },
     "execution_count": 19,
     "metadata": {},
     "output_type": "execute_result"
    },
    {
     "data": {
      "image/png": "[encoded data removed]",
      "text/plain": [
       "<Figure size 500x500 with 1 Axes>"
      ]
     },
     "metadata": {},
     "output_type": "display_data"
    }
   ],
   "source": [
    "sns.displot(test.revenue) # распределение группа b"
   ]
  },
  {
   "cell_type": "code",
   "execution_count": 20,
   "id": "4c493a2d",
   "metadata": {},
   "outputs": [
    {
     "data": {
      "text/plain": [
       "<Axes: xlabel='testgroup', ylabel='revenue'>"
      ]
     },
     "execution_count": 20,
     "metadata": {},
     "output_type": "execute_result"
    },
    {
     "data": {
      "image/png": "[encoded data removed]",
      "text/plain": [
       "<Figure size 640x480 with 1 Axes>"
      ]
     },
     "metadata": {},
     "output_type": "display_data"
    }
   ],
   "source": [
    "sns.boxplot(x='testgroup', y='revenue', data=df) # выбросы "
   ]
  },
  {
   "cell_type": "markdown",
   "id": "a8a5d6cf",
   "metadata": {},
   "source": [
    "по распределениям видны выбросы в группе а, посмотрим, помешают они нам в тестах или нет."
   ]
  },
  {
   "cell_type": "code",
   "execution_count": 21,
   "id": "b700f453",
   "metadata": {},
   "outputs": [
    {
     "name": "stdout",
     "output_type": "stream",
     "text": [
      "Доля выбросов от всего числа наблюдений группы а составляет 0.06 %\n"
     ]
    }
   ],
   "source": [
    "print('Доля выбросов от всего числа наблюдений группы а составляет', round((contr.query('revenue > 5000').revenue.count() / contr.revenue.count())*100, 2), '%')"
   ]
  },
  {
   "cell_type": "code",
   "execution_count": 22,
   "id": "10a70997",
   "metadata": {},
   "outputs": [
    {
     "name": "stdout",
     "output_type": "stream",
     "text": [
      "Доля заработанных денег от выбросов группы а составляет 89.37 %\n"
     ]
    }
   ],
   "source": [
    "print('Доля заработанных денег от выбросов группы а составляет', round(contr.query('revenue > 5000').revenue.sum() / contr.revenue.sum() *100, 2), '%')"
   ]
  },
  {
   "cell_type": "markdown",
   "id": "995a1784",
   "metadata": {},
   "source": [
    "Выбросы оставляем и будем их учитывать в тестах, потому что:\n",
    "\n",
    "% выбросов маленький (0,06)  \n",
    "% заработанных денег ощутимый (89,37)"
   ]
  },
  {
   "cell_type": "code",
   "execution_count": 23,
   "id": "95625ef7",
   "metadata": {},
   "outputs": [
    {
     "data": {
      "text/plain": [
       "LeveneResult(statistic=1.57736044973474, pvalue=0.2091420343022563)"
      ]
     },
     "execution_count": 23,
     "metadata": {},
     "output_type": "execute_result"
    }
   ],
   "source": [
    "ss.levene(contr.revenue, test.revenue, center='mean') # тест Левена на гомогенность дисперсий"
   ]
  },
  {
   "cell_type": "code",
   "execution_count": 24,
   "id": "ec5b68f1",
   "metadata": {},
   "outputs": [
    {
     "data": {
      "text/plain": [
       "LeveneResult(statistic=0.3896289474701388, pvalue=0.5324948591043842)"
      ]
     },
     "execution_count": 24,
     "metadata": {},
     "output_type": "execute_result"
    }
   ],
   "source": [
    "ss.levene(contr.revenue, test.revenue, center='median') # тест Левена на гомогенность дисперсий"
   ]
  },
  {
   "cell_type": "markdown",
   "id": "cd875c26",
   "metadata": {},
   "source": [
    "pvalue > 0.05, дисперсии гомогенны"
   ]
  },
  {
   "cell_type": "code",
   "execution_count": 25,
   "id": "2d85945b",
   "metadata": {},
   "outputs": [
    {
     "name": "stdout",
     "output_type": "stream",
     "text": [
      "контрольная группа  ShapiroResult(statistic=0.022326767444610596, pvalue=0.0)\n",
      "тестовая группа ShapiroResult(statistic=0.07766050100326538, pvalue=0.0)\n"
     ]
    }
   ],
   "source": [
    "print('контрольная группа ', ss.shapiro(contr.revenue.sample(n=1000))) # тест Шапиро-Уилка на нормальность\n",
    "print('тестовая группа', ss.shapiro(test.revenue.sample(n=1000)))"
   ]
  },
  {
   "cell_type": "markdown",
   "id": "371036af",
   "metadata": {},
   "source": [
    "pvalue < 0.05, распределения не нормальны"
   ]
  },
  {
   "cell_type": "code",
   "execution_count": 26,
   "id": "4f713247",
   "metadata": {},
   "outputs": [
    {
     "name": "stdout",
     "output_type": "stream",
     "text": [
      "контрольная группа NormaltestResult(statistic=585152.7312728433, pvalue=0.0)\n",
      "тестовая группа NormaltestResult(statistic=326622.39540856465, pvalue=0.0)\n"
     ]
    }
   ],
   "source": [
    "print('контрольная группа', ss.normaltest(contr.revenue)) # Тест Д’Агостино и Пирсона на нормальность\n",
    "print('тестовая группа', ss.normaltest(test.revenue))"
   ]
  },
  {
   "cell_type": "markdown",
   "id": "1ed22612",
   "metadata": {},
   "source": [
    "pvalue < 0.05, распределения не нормальны"
   ]
  },
  {
   "cell_type": "markdown",
   "id": "53071687",
   "metadata": {},
   "source": [
    "Распределения не нормальны, но у нас большая выборка (для нормальности т-теста надо менее 30) и количество наблюдений почти одинаковое, поэтому можем применить t-тест Стьюдента."
   ]
  },
  {
   "cell_type": "code",
   "execution_count": 27,
   "id": "55084841",
   "metadata": {},
   "outputs": [
    {
     "data": {
      "text/plain": [
       "Ttest_indResult(statistic=-0.6242026493616787, pvalue=0.532494858971837)"
      ]
     },
     "execution_count": 27,
     "metadata": {},
     "output_type": "execute_result"
    }
   ],
   "source": [
    "ttest_ind(contr.revenue, test.revenue)"
   ]
  },
  {
   "cell_type": "markdown",
   "id": "aed24f91",
   "metadata": {},
   "source": [
    "При проведении t-теста нулевая гипотеза состоит в том, что различий между значениями средних нет. Значение pvalue больше 0.05, принимаем Н0, различия статистически между ARPU не значительны."
   ]
  },
  {
   "cell_type": "markdown",
   "id": "9dc17fc3",
   "metadata": {},
   "source": [
    "### 3. ARPPU - средний доход на платящего пользователя"
   ]
  },
  {
   "cell_type": "code",
   "execution_count": 28,
   "id": "c7d846be",
   "metadata": {},
   "outputs": [
    {
     "data": {
      "text/plain": [
       "2663.9984439834025"
      ]
     },
     "execution_count": 28,
     "metadata": {},
     "output_type": "execute_result"
    }
   ],
   "source": [
    "contr.query('revenue > 0').revenue.mean()"
   ]
  },
  {
   "cell_type": "code",
   "execution_count": 29,
   "id": "ea60947e",
   "metadata": {},
   "outputs": [
    {
     "data": {
      "text/plain": [
       "3003.6581717451522"
      ]
     },
     "execution_count": 29,
     "metadata": {},
     "output_type": "execute_result"
    }
   ],
   "source": [
    "test.query('revenue > 0').revenue.mean()"
   ]
  },
  {
   "cell_type": "markdown",
   "id": "f99d5cee",
   "metadata": {},
   "source": [
    "ARPPU тестовой группы больше контрольной, посмотрим, статистически значимо ли это."
   ]
  },
  {
   "cell_type": "code",
   "execution_count": 30,
   "id": "ceda0d6d",
   "metadata": {},
   "outputs": [
    {
     "data": {
      "text/plain": [
       "<seaborn.axisgrid.FacetGrid at 0x158b58160>"
      ]
     },
     "execution_count": 30,
     "metadata": {},
     "output_type": "execute_result"
    },
    {
     "data": {
      "image/png": "[encoded data removed]",
      "text/plain": [
       "<Figure size 500x500 with 1 Axes>"
      ]
     },
     "metadata": {},
     "output_type": "display_data"
    }
   ],
   "source": [
    "sns.displot(contr.query('revenue > 0').revenue) # распределение группа а платящие"
   ]
  },
  {
   "cell_type": "code",
   "execution_count": 31,
   "id": "4f0e5c8d",
   "metadata": {},
   "outputs": [
    {
     "data": {
      "text/plain": [
       "<seaborn.axisgrid.FacetGrid at 0x158b59d50>"
      ]
     },
     "execution_count": 31,
     "metadata": {},
     "output_type": "execute_result"
    },
    {
     "data": {
      "image/png": "[encoded data removed]",
      "text/plain": [
       "<Figure size 500x500 with 1 Axes>"
      ]
     },
     "metadata": {},
     "output_type": "display_data"
    }
   ],
   "source": [
    "sns.displot(test.query('revenue > 0').revenue) # распределение группа b платящие"
   ]
  },
  {
   "cell_type": "code",
   "execution_count": 32,
   "id": "cd34e8da",
   "metadata": {},
   "outputs": [
    {
     "data": {
      "text/plain": [
       "<Axes: xlabel='testgroup', ylabel='revenue'>"
      ]
     },
     "execution_count": 32,
     "metadata": {},
     "output_type": "execute_result"
    },
    {
     "data": {
      "image/png": "[encoded data removed]",
      "text/plain": [
       "<Figure size 640x480 with 1 Axes>"
      ]
     },
     "metadata": {},
     "output_type": "display_data"
    }
   ],
   "source": [
    "sns.boxplot(x='testgroup', y='revenue', data=df.query('revenue > 0')) # выбросы у платящих"
   ]
  },
  {
   "cell_type": "code",
   "execution_count": 33,
   "id": "56149099",
   "metadata": {},
   "outputs": [
    {
     "name": "stdout",
     "output_type": "stream",
     "text": [
      "Доля выбросов от всего числа наблюдений группы а составляет 6.38 %\n"
     ]
    }
   ],
   "source": [
    "print('Доля выбросов от всего числа наблюдений группы а составляет', round((contr.query('revenue > 5000').revenue.count() / contr.query('revenue > 0').revenue.count())*100, 2), '%')"
   ]
  },
  {
   "cell_type": "code",
   "execution_count": 34,
   "id": "98dca094",
   "metadata": {},
   "outputs": [
    {
     "name": "stdout",
     "output_type": "stream",
     "text": [
      "Доля заработанных денег от выбросов группы а составляет 89.37 %\n"
     ]
    }
   ],
   "source": [
    "print('Доля заработанных денег от выбросов группы а составляет', round(contr.query('revenue > 5000').revenue.sum() / contr.query('revenue > 0').revenue.sum() *100, 2), '%')"
   ]
  },
  {
   "cell_type": "markdown",
   "id": "03c7c583",
   "metadata": {},
   "source": [
    "Выбросы оставляем и будем их учитывать в тестах, потому что:\n",
    "\n",
    "% выбросов увеличился, по сравнению с общим количеством (6,38), но для бизнеса важен  \n",
    "% заработанных денег, который составляет 89,37 %"
   ]
  },
  {
   "cell_type": "code",
   "execution_count": 35,
   "id": "8c330f4b",
   "metadata": {},
   "outputs": [
    {
     "data": {
      "text/plain": [
       "LeveneResult(statistic=445.9869447066088, pvalue=1.3202514573715939e-93)"
      ]
     },
     "execution_count": 35,
     "metadata": {},
     "output_type": "execute_result"
    }
   ],
   "source": [
    "ss.levene(contr.query('revenue > 0').revenue, test.query('revenue > 0').revenue, center='mean') # тест Левена на гомогенность дисперсий"
   ]
  },
  {
   "cell_type": "code",
   "execution_count": 36,
   "id": "16c46c37",
   "metadata": {},
   "outputs": [
    {
     "data": {
      "text/plain": [
       "LeveneResult(statistic=80.85567421779912, pvalue=3.779689868667878e-19)"
      ]
     },
     "execution_count": 36,
     "metadata": {},
     "output_type": "execute_result"
    }
   ],
   "source": [
    "ss.levene(contr.query('revenue > 0').revenue, test.query('revenue > 0').revenue, center='median') # тест Левена на гомогенность дисперсий"
   ]
  },
  {
   "cell_type": "markdown",
   "id": "af4f9e9d",
   "metadata": {},
   "source": [
    "pvalue < 0.05, дисперсии не гомогенны"
   ]
  },
  {
   "cell_type": "code",
   "execution_count": 37,
   "id": "dcbca2f1",
   "metadata": {},
   "outputs": [
    {
     "name": "stdout",
     "output_type": "stream",
     "text": [
      "контрольная группа  ShapiroResult(statistic=0.26972025632858276, pvalue=0.0)\n",
      "тестовая группа ShapiroResult(statistic=0.9546468257904053, pvalue=5.000910975602461e-17)\n"
     ]
    }
   ],
   "source": [
    "print('контрольная группа ', ss.shapiro(contr.query('revenue > 0').revenue.sample(n=1000))) # тест Шапиро-Уилка на нормальность\n",
    "print('тестовая группа', ss.shapiro(test.query('revenue > 0').revenue.sample(n=1000)))"
   ]
  },
  {
   "cell_type": "code",
   "execution_count": 38,
   "id": "70e20316",
   "metadata": {},
   "outputs": [
    {
     "name": "stdout",
     "output_type": "stream",
     "text": [
      "контрольная группа NormaltestResult(statistic=1394.9457843086925, pvalue=1.2341605505935488e-303)\n",
      "тестовая группа NormaltestResult(statistic=1068.8600084412267, pvalue=7.943249488371762e-233)\n"
     ]
    }
   ],
   "source": [
    "print('контрольная группа', ss.normaltest(contr.query('revenue > 0').revenue)) # Тест Д’Агостино и Пирсона на нормальность\n",
    "print('тестовая группа', ss.normaltest(test.query('revenue > 0').revenue))"
   ]
  },
  {
   "cell_type": "markdown",
   "id": "fbd51319",
   "metadata": {},
   "source": [
    "pvalue < 0.05, распределения не нормальны"
   ]
  },
  {
   "cell_type": "markdown",
   "id": "d341e0b3",
   "metadata": {},
   "source": [
    "Получается, что дисперсии не гомогенны и распределения не нормальны, поэтому будем использовать бутстрап, причем будем сравнивать не средние mean, а медианные median, потому что процент выбросов у нас аж 6.38, что много и для средних будет искажение результата, а для медианных - норм."
   ]
  },
  {
   "cell_type": "code",
   "execution_count": 39,
   "id": "8a7d15ae",
   "metadata": {},
   "outputs": [],
   "source": [
    "def get_bootstrap(\n",
    "    data_column_1, # числовые значения первой выборки\n",
    "    data_column_2, # числовые значения второй выборки\n",
    "    boot_it = 1000, # количество бутстрэп-подвыборок\n",
    "    statistic = np.median, # интересующая нас статистика\n",
    "    bootstrap_conf_level = 0.95 # уровень значимости\n",
    "):\n",
    "    boot_data = []\n",
    "    for i in tqdm(range(boot_it)): # извлекаем подвыборки\n",
    "        samples_1 = data_column_1.sample(\n",
    "            len(data_column_1), \n",
    "            replace = True # параметр возвращения\n",
    "        ).values\n",
    "        \n",
    "        samples_2 = data_column_2.sample(\n",
    "            len(data_column_1), \n",
    "            replace = True\n",
    "        ).values\n",
    "        \n",
    "        boot_data.append(statistic(samples_1)-statistic(samples_2)) # mean() - применяем статистику\n",
    "        \n",
    "    pd_boot_data = pd.DataFrame(boot_data)\n",
    "        \n",
    "    left_quant = (1 - bootstrap_conf_level)/2\n",
    "    right_quant = 1 - (1 - bootstrap_conf_level) / 2\n",
    "    quants = pd_boot_data.quantile([left_quant, right_quant])\n",
    "        \n",
    "    p_1 = norm.cdf(\n",
    "        x = 0, \n",
    "        loc = np.mean(boot_data), \n",
    "        scale = np.std(boot_data)\n",
    "    )\n",
    "    p_2 = norm.cdf(\n",
    "        x = 0, \n",
    "        loc = -np.mean(boot_data), \n",
    "        scale = np.std(boot_data)\n",
    "    )\n",
    "    p_value = min(p_1, p_2) * 2\n",
    "        \n",
    "    # Визуализация\n",
    "    _, _, bars = plt.hist(pd_boot_data[0], bins = 50)\n",
    "    for bar in bars:\n",
    "        if bar.get_x() <= quants.iloc[0][0] or bar.get_x() >= quants.iloc[1][0]:\n",
    "            bar.set_facecolor('red')\n",
    "        else: \n",
    "            bar.set_facecolor('grey')\n",
    "            bar.set_edgecolor('black')\n",
    "    \n",
    "    plt.style.use('ggplot')\n",
    "    plt.vlines(quants,ymin=0,ymax=50,linestyle='--')\n",
    "    plt.xlabel('boot_data')\n",
    "    plt.ylabel('frequency')\n",
    "    plt.title(\"Histogram of boot_data\")\n",
    "    plt.show()\n",
    "       \n",
    "    return {\"boot_data\": boot_data, \n",
    "            \"quants\": quants, \n",
    "            \"p_value\": p_value}"
   ]
  },
  {
   "cell_type": "code",
   "execution_count": 40,
   "id": "a75f740d",
   "metadata": {},
   "outputs": [
    {
     "name": "stderr",
     "output_type": "stream",
     "text": [
      "100%|█████████████████████████████████████| 1000/1000 [00:00<00:00, 5408.86it/s]\n"
     ]
    },
    {
     "data": {
      "image/png": "[encoded data removed]",
      "text/plain": [
       "<Figure size 640x480 with 1 Axes>"
      ]
     },
     "metadata": {},
     "output_type": "display_data"
    }
   ],
   "source": [
    "arppu_bootstrap_median = get_bootstrap(contr.query('revenue > 0').revenue, test.query('revenue > 0').revenue, statistic = np.median) "
   ]
  },
  {
   "cell_type": "code",
   "execution_count": 41,
   "id": "0103ac3b",
   "metadata": {},
   "outputs": [
    {
     "data": {
      "text/plain": [
       "0.0"
      ]
     },
     "execution_count": 41,
     "metadata": {},
     "output_type": "execute_result"
    }
   ],
   "source": [
    "arppu_bootstrap_median[\"p_value\"]"
   ]
  },
  {
   "cell_type": "markdown",
   "id": "ee277b82",
   "metadata": {},
   "source": [
    "При применении бутстрапа  с методом statistic = np.median pvalue < 0.05, отклоняем нулевую гипотезу, различия ARPPU между группами статистически значимые."
   ]
  },
  {
   "cell_type": "markdown",
   "id": "886a0b8e",
   "metadata": {},
   "source": [
    "### 4. Total money"
   ]
  },
  {
   "cell_type": "code",
   "execution_count": 42,
   "id": "44710ad9",
   "metadata": {},
   "outputs": [
    {
     "data": {
      "text/plain": [
       "5136189"
      ]
     },
     "execution_count": 42,
     "metadata": {},
     "output_type": "execute_result"
    }
   ],
   "source": [
    "contr.revenue.sum()"
   ]
  },
  {
   "cell_type": "code",
   "execution_count": 43,
   "id": "def25a55",
   "metadata": {},
   "outputs": [
    {
     "data": {
      "text/plain": [
       "5421603"
      ]
     },
     "execution_count": 43,
     "metadata": {},
     "output_type": "execute_result"
    }
   ],
   "source": [
    "test.revenue.sum()"
   ]
  },
  {
   "cell_type": "code",
   "execution_count": 44,
   "id": "494b6b97",
   "metadata": {},
   "outputs": [
    {
     "name": "stdout",
     "output_type": "stream",
     "text": [
      "общий доход в тестовой группе больше на 285414 , и это составляет 5.26 %\n"
     ]
    }
   ],
   "source": [
    "diff = test.revenue.sum() - contr.revenue.sum()\n",
    "print ('общий доход в тестовой группе больше на', diff, ', и это составляет',round(diff / test.revenue.sum() * 100,2),'%')"
   ]
  },
  {
   "cell_type": "markdown",
   "id": "fe198b95",
   "metadata": {},
   "source": [
    "### ИТОГО:\n",
    "    1. конверсия CR у контрольной группы больше и это статистически значимо\n",
    "    2. различия между средним доходом на пользователя ARPU статистически не значительны\n",
    "    3. средний доход на платящего пользователя ARPPU у тестовой группы больше и это статистически значимо.\n",
    "    4. общий доход в тестовой группе больше\n",
    "    \n",
    "Пользователи из тестовой группы меньше платят, но при этом на платящего пользователя у них доход больше, доходы равномерные и легче прогнозируемые (в отличие от контрольной группы, где много маленьких доходов и очень низкий процент больших). Также общий доход в тестовой группе больше. Если пользователи будут уходить, то для контрольной группы это будет более критично, чем для тестовой. Получается, что предложение тестовой группы можно считать лучшим."
   ]
  },
  {
   "cell_type": "code",
   "execution_count": null,
   "id": "a69eb234",
   "metadata": {},
   "outputs": [],
   "source": []
  }
 ],
 "metadata": {
  "kernelspec": {
   "display_name": "Python 3 (ipykernel)",
   "language": "python",
   "name": "python3"
  },
  "language_info": {
   "codemirror_mode": {
    "name": "ipython",
    "version": 3
   },
   "file_extension": ".py",
   "mimetype": "text/x-python",
   "name": "python",
   "nbconvert_exporter": "python",
   "pygments_lexer": "ipython3",
   "version": "3.10.9"
  }
 },
 "nbformat": 4,
 "nbformat_minor": 5
}
